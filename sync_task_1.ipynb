{
  "nbformat": 4,
  "nbformat_minor": 0,
  "metadata": {
    "colab": {
      "provenance": []
    },
    "kernelspec": {
      "name": "python3",
      "display_name": "Python 3"
    },
    "language_info": {
      "name": "python"
    }
  },
  "cells": [
    {
      "cell_type": "code",
      "execution_count": 9,
      "metadata": {
        "colab": {
          "base_uri": "https://localhost:8080/"
        },
        "id": "h8csr4-4hgHX",
        "outputId": "f5efc059-1a1e-4a78-bbb9-424c66758545"
      },
      "outputs": [
        {
          "output_type": "stream",
          "name": "stdout",
          "text": [
            "ChatBot: Hi, how can I help you?\n",
            "User: hi\n",
            "ChatBot: Hi! How are you?\n",
            "User: what is your name?\n",
            "ChatBot: My name is ChatBot.\n",
            "User: how old\n",
            "ChatBot: I am a virtual assistant, so I don't have an age.\n",
            "User: tell me a joke\n",
            "ChatBot: Why don't scientists trust atoms? Because they make up everything!\n",
            "User: ll me a fun fact\n",
            "ChatBot: Did you know that the world's oldest known vegetable is the pea?\n",
            "User: last world won by which team\n",
            "ChatBot: France won the last World Cup.\n",
            "User: bye\n",
            "ChatBot: Goodbye! Have a great day.\n"
          ]
        }
      ],
      "source": [
        "import random\n",
        "from sklearn.feature_extraction.text import CountVectorizer\n",
        "from sklearn.linear_model import LogisticRegression\n",
        "\n",
        "# Define the training data\n",
        "training_data = [\n",
        "    [\"What's the weather like today?\", \"weather\"],\n",
        "    [\"Tell me a joke.\", \"joke\"],\n",
        "    [\"What's your name?\", \"name\"],\n",
        "    [\"How old are you?\", \"age\"],\n",
        "    [\"What time is it?\", \"time\"],\n",
        "    [\"Who won the last World Cup?\", \"worldcup\"],\n",
        "    [\"What's the capital of France?\", \"capital\"],\n",
        "    [\"How do I get to the nearest library?\", \"directions\"],\n",
        "    [\"What's the meaning of life?\", \"meaning\"],\n",
        "    [\"Tell me a fun fact.\", \"fact\"],\n",
        "    [\"Hi\",\"hi\"]\n",
        "]\n",
        "\n",
        "# Preprocess the training data\n",
        "corpus = [data[0] for data in training_data]\n",
        "labels = [data[1] for data in training_data]\n",
        "vectorizer = CountVectorizer()\n",
        "X = vectorizer.fit_transform(corpus)\n",
        "\n",
        "# Train the intent recognition model\n",
        "model = LogisticRegression()\n",
        "model.fit(X, labels)\n",
        "\n",
        "# Define responses for each intent\n",
        "responses = {\n",
        "    \"weather\": \"The weather is sunny today.\",\n",
        "    \"joke\": \"Why don't scientists trust atoms? Because they make up everything!\",\n",
        "    \"name\": \"My name is ChatBot.\",\n",
        "    \"age\": \"I am a virtual assistant, so I don't have an age.\",\n",
        "    \"time\": \"The current time is 12:30 PM.\",\n",
        "    \"worldcup\": \"France won the last World Cup.\",\n",
        "    \"capital\": \"The capital of France is Paris.\",\n",
        "    \"directions\": \"To get to the nearest library, take a left from the main road.\",\n",
        "    \"meaning\": \"The meaning of life is subjective and can vary for each individual.\",\n",
        "    \"fact\": \"Did you know that the world's oldest known vegetable is the pea?\",\n",
        "    \"hi\": \"Hi! How are you?\"\n",
        "}\n",
        "\n",
        "# Function to predict intent and generate a response\n",
        "def chatbot(query):\n",
        "    query_vector = vectorizer.transform([query])\n",
        "    intent = model.predict(query_vector)[0]\n",
        "    if intent in responses:\n",
        "        return responses[intent]\n",
        "    else:\n",
        "        return \"I'm sorry, I don't understand that question.\"\n",
        "\n",
        "# Example usage\n",
        "print(\"ChatBot: Hi, how can I help you?\")\n",
        "while True:\n",
        "    user_query = input(\"User: \")whate\n",
        "    if user_query.lower() == 'bye':\n",
        "        print(\"ChatBot: Goodbye! Have a great day.\")\n",
        "        break\n",
        "\n",
        "    bot_response = chatbot(user_query)\n",
        "    print(\"ChatBot:\", bot_response)\n"
      ]
    }
  ]
}